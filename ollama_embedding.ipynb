{
 "cells": [
  {
   "cell_type": "code",
   "execution_count": 2,
   "metadata": {},
   "outputs": [],
   "source": [
    "from langchain_community.document_loaders import PyPDFLoader\n",
    "from langchain_community.vectorstores import Chroma\n",
    "from langchain_community.embeddings import OllamaEmbeddings\n",
    "from langchain_community.chat_models import ChatOllama\n",
    "from langchain_core.runnables import RunnablePassthrough\n",
    "from langchain_core.output_parsers import StrOutputParser\n",
    "from langchain_core.prompts import ChatPromptTemplate\n",
    "from langchain.output_parsers import PydanticOutputParser\n",
    "from langchain.text_splitter import CharacterTextSplitter\n",
    "from langchain.vectorstores import FAISS"
   ]
  },
  {
   "cell_type": "code",
   "execution_count": 3,
   "metadata": {},
   "outputs": [],
   "source": [
    "import chromadb"
   ]
  },
  {
   "cell_type": "code",
   "execution_count": 4,
   "metadata": {},
   "outputs": [],
   "source": [
    "model_local = ChatOllama(model=\"mistral\")\n",
    "\n",
    "docs_paths = [\"./National_Efficient_Price_Determination_2022_23.pdf\", \n",
    "              \"./National_Efficient_Price_Determination_2023_24.pdf\"]\n",
    "\n",
    "all_doc_splits = []\n",
    "\n",
    "for path in docs_paths:\n",
    "    loader = PyPDFLoader(path)\n",
    "    doc_splits = loader.load_and_split()\n",
    "    all_doc_splits.extend(doc_splits)\n",
    "\n",
    "text_splitter = CharacterTextSplitter.from_tiktoken_encoder(chunk_size=1000, chunk_overlap=100) \n",
    "chunk_doc_splits = text_splitter.split_documents(all_doc_splits)"
   ]
  },
  {
   "cell_type": "code",
   "execution_count": null,
   "metadata": {},
   "outputs": [],
   "source": [
    "embeddings = OllamaEmbeddings(model='nomic')\n",
    "db = FAISS.from_documents(chunk_doc_splits, embeddings)\n",
    "\n",
    "retriever = db.as_retriever(\n",
    "    search_type=\"similarity\",\n",
    "    search_kwargs={'k': 4}\n",
    ")"
   ]
  },
  {
   "cell_type": "code",
   "execution_count": 5,
   "metadata": {},
   "outputs": [],
   "source": [
    "vectorstore = Chroma.from_documents(\n",
    "    documents=chunk_doc_splits,\n",
    "    collection_name=\"rag-chroma\",\n",
    "    embedding=OllamaEmbeddings(model='nomic'),\n",
    ")\n",
    "retriever = vectorstore.as_retriever()"
   ]
  },
  {
   "cell_type": "code",
   "execution_count": null,
   "metadata": {},
   "outputs": [],
   "source": [
    "before_rag_template = \"What is {topic}\"\n",
    "before_rag_prompt = ChatPromptTemplate.from_template(before_rag_template)\n",
    "before_rag_chain = before_rag_prompt | model_local | StrOutputParser()\n",
    "print(before_rag_chain.invoke({\"topic\": \"Nep\"}))"
   ]
  },
  {
   "cell_type": "code",
   "execution_count": null,
   "metadata": {},
   "outputs": [],
   "source": [
    "after_rag_template = \"\"\"Answer the question based only on the following context:\n",
    "{context}. If it's out of your ability to answer the question, don't answer with falsification of facts and apologize for the inconvenience.\n",
    "Provide a refernece of in which file which page you found the answer at the end.\n",
    "Question: {question}\n",
    "\"\"\"\n",
    "after_rag_prompt = ChatPromptTemplate.from_template(after_rag_template)\n",
    "after_rag_chain = (\n",
    "    {\"context\": retriever, \"question\": RunnablePassthrough()}\n",
    "    | after_rag_prompt\n",
    "    | model_local\n",
    "    | StrOutputParser()\n",
    ")\n",
    "print(after_rag_chain.invoke(\"Does Lens Interventions have a same day payment list in 2023-24?\"))"
   ]
  },
  {
   "cell_type": "code",
   "execution_count": null,
   "metadata": {},
   "outputs": [],
   "source": [
    "conversation_history = []\n",
    "\n",
    "after_rag_template = \"\"\"Answer the question based on the following context: {context},\n",
    "                        and previous history: {history}.\n",
    "                        If it's out of your ability to answer the question, don't answer with falsification of facts and apologize for the inconvenience.\n",
    "                        Provide a reference of in which file and which page you found the answer at the end.\n",
    "                        Question: {question}\n",
    "                        \"\"\""
   ]
  },
  {
   "cell_type": "code",
   "execution_count": null,
   "metadata": {},
   "outputs": [],
   "source": [
    "def format_history_for_inclusion(history):     \n",
    "    formatted_history = \"\"\n",
    "    for turn in history:         \n",
    "        formatted_history += f\"{turn['role']}: {turn['content']}\\n\"\n",
    "    return formatted_history"
   ]
  },
  {
   "cell_type": "code",
   "execution_count": null,
   "metadata": {},
   "outputs": [],
   "source": [
    "def invoke_with_history(question):\n",
    "    global conversation_history\n",
    "    formatted_history = format_history(conversation_history)\n",
    "\n",
    "    after_rag_prompt = ChatPromptTemplate.from_template(after_rag_template)\n",
    "    after_rag_chain = (\n",
    "        {\"context\":retriever, \"question\":RunnablePassthrough(), \"history\": formatted_history}\n",
    "        | after_rag_prompt\n",
    "        | model_local\n",
    "        | StrOutputParser()\n",
    "    )\n",
    "\n",
    "    response = after_rag_chain.invoke(question)\n",
    "\n",
    "    conversation_history.append({\"role\": \"user\", \"content\": question})\n",
    "    conversation_history.append({\"role\": \"assistant\", \"content\": response})\n",
    "\n",
    "    return response"
   ]
  },
  {
   "cell_type": "code",
   "execution_count": null,
   "metadata": {},
   "outputs": [],
   "source": [
    "print(invoke_with_history(\"Hello, my name is Olaf\"))"
   ]
  }
 ],
 "metadata": {
  "kernelspec": {
   "display_name": "env",
   "language": "python",
   "name": "python3"
  },
  "language_info": {
   "codemirror_mode": {
    "name": "ipython",
    "version": 3
   },
   "file_extension": ".py",
   "mimetype": "text/x-python",
   "name": "python",
   "nbconvert_exporter": "python",
   "pygments_lexer": "ipython3",
   "version": "3.11.2"
  },
  "orig_nbformat": 4
 },
 "nbformat": 4,
 "nbformat_minor": 2
}
